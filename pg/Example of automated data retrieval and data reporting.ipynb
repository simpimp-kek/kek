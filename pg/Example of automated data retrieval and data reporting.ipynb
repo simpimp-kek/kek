{
 "cells": [
  {
   "cell_type": "markdown",
   "id": "ec5a1c72",
   "metadata": {},
   "source": [
    "1. Choose Your Data Source\n",
    "Identify where your data is coming from, which could include:\n",
    "\n",
    "APIs: Web services that provide data.\n",
    "Databases: SQL or NoSQL databases.\n",
    "Websites: Data available through web scraping.\n",
    "Files: Local or remote files such as CSV, Excel, JSON.\n"
   ]
  },
  {
   "cell_type": "code",
   "execution_count": null,
   "id": "2c4cd9d7",
   "metadata": {},
   "outputs": [],
   "source": [
    "#Api\n",
    "import requests\n",
    "\n",
    "def fetch_data_from_api(api_url, params=None):\n",
    "    response = requests.get(api_url, params=params)\n",
    "    if response.status_code == 200:\n",
    "        return response.json()\n",
    "    else:\n",
    "        response.raise_for_status()\n"
   ]
  },
  {
   "cell_type": "code",
   "execution_count": null,
   "id": "48a53ced",
   "metadata": {},
   "outputs": [],
   "source": [
    "# csv\n",
    "import pandas as pd\n",
    "\n",
    "def read_csv_file(file_path):\n",
    "    df = pd.read_csv(file_path)\n",
    "    return df\n"
   ]
  },
  {
   "cell_type": "markdown",
   "id": "b407ca7b",
   "metadata": {},
   "source": [
    "2. Schedule Automatic Data Retrieval\n",
    "Use scheduling libraries like schedule or APScheduler, or system schedulers like cron jobs or Task Scheduler to run your scripts at specified intervals.\n",
    "\n",
    "Example using schedule:"
   ]
  },
  {
   "cell_type": "code",
   "execution_count": null,
   "id": "4d07c0f1",
   "metadata": {},
   "outputs": [],
   "source": [
    "import schedule\n",
    "import time\n",
    "\n",
    "def retrieve_data():\n",
    "    # Example function to retrieve and process data\n",
    "    data = fetch_data_from_api('http://api.example.com/data')\n",
    "    # Process data here\n",
    "\n",
    "# Schedule the function to run every day at 6 AM\n",
    "schedule.every().day.at(\"06:00\").do(retrieve_data)\n",
    "\n",
    "while True:\n",
    "    schedule.run_pending()\n",
    "    time.sleep(60)  # Wait one minute\n"
   ]
  },
  {
   "cell_type": "markdown",
   "id": "bb1fa301",
   "metadata": {},
   "source": [
    "3.  Handle Errors and Notifications\n",
    "Implement error handling to manage issues during data retrieval and set up notifications if necessary.\n",
    "\n",
    "Example with basic error handling:"
   ]
  },
  {
   "cell_type": "code",
   "execution_count": null,
   "id": "8275d1fa",
   "metadata": {},
   "outputs": [],
   "source": [
    "def safe_fetch_data_from_api(api_url, params=None):\n",
    "    try:\n",
    "        return fetch_data_from_api(api_url, params)\n",
    "    except requests.RequestException as e:\n",
    "        print(f\"Error fetching data: {e}\")\n",
    "        # Optionally log error or notify\n"
   ]
  },
  {
   "cell_type": "markdown",
   "id": "74a197b1",
   "metadata": {},
   "source": [
    "4. Store or Process Retrieved Data\n",
    "Decide what to do with the data once it’s retrieved:\n",
    "\n",
    "Store: Save to a database or file.\n",
    "Process: Analyze or transform the data.\n",
    "Report: Generate reports or dashboards.\n",
    "Example to store data in a CSV file:"
   ]
  },
  {
   "cell_type": "code",
   "execution_count": null,
   "id": "5b50247f",
   "metadata": {},
   "outputs": [],
   "source": [
    "import pandas as pd\n",
    "\n",
    "def save_data_to_csv(data, file_path):\n",
    "    df = pd.DataFrame(data)\n",
    "    df.to_csv(file_path, index=False)\n"
   ]
  },
  {
   "cell_type": "code",
   "execution_count": null,
   "id": "dda211f4",
   "metadata": {},
   "outputs": [],
   "source": []
  },
  {
   "cell_type": "markdown",
   "id": "329ad62c",
   "metadata": {},
   "source": [
    "# Data Reporting"
   ]
  },
  {
   "cell_type": "markdown",
   "id": "9b3b7640",
   "metadata": {},
   "source": [
    "1. Retrieve Data\n",
    "First, set up your Python script to retrieve data from the necessary sources (databases, APIs, web scraping, etc.)."
   ]
  },
  {
   "cell_type": "code",
   "execution_count": null,
   "id": "15485800",
   "metadata": {},
   "outputs": [],
   "source": [
    "import requests\n",
    "import pandas as pd\n",
    "\n",
    "def fetch_data():\n",
    "    response = requests.get('http://api.example.com/data')\n",
    "    data = response.json()\n",
    "    df = pd.DataFrame(data)\n",
    "    return df\n"
   ]
  },
  {
   "cell_type": "markdown",
   "id": "ad45e746",
   "metadata": {},
   "source": [
    "2. Process Data\n",
    "Once the data is retrieved, you may need to clean, aggregate, or analyze it to prepare it for reporting.\n",
    "\n",
    "Example:"
   ]
  },
  {
   "cell_type": "code",
   "execution_count": null,
   "id": "0c775514",
   "metadata": {},
   "outputs": [],
   "source": [
    "def process_data(df):\n",
    "    # Example of data processing\n",
    "    df['date'] = pd.to_datetime(df['date'])\n",
    "    summary = df.groupby('category').agg({'value': 'sum'})\n",
    "    return summary\n"
   ]
  },
  {
   "cell_type": "markdown",
   "id": "f0adf4da",
   "metadata": {},
   "source": [
    "3. Generate Reports\n",
    "You can generate reports in various formats. Here are examples for generating a CSV file and a PDF report:\n",
    "\n",
    "Generate a CSV Report"
   ]
  },
  {
   "cell_type": "code",
   "execution_count": null,
   "id": "a5411a26",
   "metadata": {},
   "outputs": [],
   "source": [
    "def generate_csv_report(df, filename='report.csv'):\n",
    "    df.to_csv(filename, index=False)\n"
   ]
  },
  {
   "cell_type": "code",
   "execution_count": null,
   "id": "65c6695f",
   "metadata": {},
   "outputs": [],
   "source": [
    "# Generate PDF\n",
    "\n",
    "from reportlab.lib.pagesizes import letter\n",
    "from reportlab.pdfgen import canvas\n",
    "\n",
    "def generate_pdf_report(df, filename='report.pdf'):\n",
    "    c = canvas.Canvas(filename, pagesize=letter)\n",
    "    width, height = letter\n",
    "    text = c.beginText(40, height - 40)\n",
    "    text.setFont(\"Helvetica\", 12)\n",
    "    \n",
    "    for i, row in df.iterrows():\n",
    "        line = f\"{row['category']}: {row['value']}\"\n",
    "        text.textLine(line)\n",
    "        \n",
    "    c.drawText(text)\n",
    "    c.showPage()\n",
    "    c.save()\n"
   ]
  },
  {
   "cell_type": "markdown",
   "id": "c538afd7",
   "metadata": {},
   "source": [
    "4. Automate Report Generation\n",
    "You can use Python scheduling libraries or system schedulers to automate the execution of your report generation scripts.\n",
    "\n",
    "Example using the schedule library:"
   ]
  },
  {
   "cell_type": "code",
   "execution_count": null,
   "id": "afe25c33",
   "metadata": {},
   "outputs": [],
   "source": [
    "import schedule\n",
    "import time\n",
    "\n",
    "def job():\n",
    "    df = fetch_data()\n",
    "    processed_data = process_data(df)\n",
    "    generate_csv_report(processed_data, 'report.csv')\n",
    "    generate_pdf_report(processed_data, 'report.pdf')\n",
    "\n",
    "# Schedule the job to run daily at 6 AM\n",
    "schedule.every().day.at(\"06:00\").do(job)\n",
    "\n",
    "while True:\n",
    "    schedule.run_pending()\n",
    "    time.sleep(60)  # wait one minute\n"
   ]
  },
  {
   "cell_type": "markdown",
   "id": "074c2318",
   "metadata": {},
   "source": [
    "5. Deliver Reports\n",
    "After generating the reports, you may want to send them via email or upload them to a cloud storage service. Here's an example of sending an email with an attachment using smtplib:"
   ]
  },
  {
   "cell_type": "code",
   "execution_count": null,
   "id": "6974c107",
   "metadata": {},
   "outputs": [],
   "source": [
    "import smtplib\n",
    "from email.mime.multipart import MIMEMultipart\n",
    "from email.mime.text import MIMEText\n",
    "from email.mime.base import MIMEBase\n",
    "from email import encoders\n",
    "\n",
    "def send_email(subject, body, to_email, attachment_path):\n",
    "    from_email = 'your_email@example.com'\n",
    "    password = 'your_password'\n",
    "    \n",
    "    msg = MIMEMultipart()\n",
    "    msg['From'] = from_email\n",
    "    msg['To'] = to_email\n",
    "    msg['Subject'] = subject\n",
    "\n",
    "    msg.attach(MIMEText(body, 'plain'))\n",
    "    \n",
    "    # Attach the file\n",
    "    attachment = open(attachment_path, 'rb')\n",
    "    part = MIMEBase('application', 'octet-stream')\n",
    "    part.set_payload(attachment.read())\n",
    "    encoders.encode_base64(part)\n",
    "    part.add_header('Content-Disposition', f'attachment; filename= {attachment_path}')\n",
    "    msg.attach(part)\n",
    "\n",
    "    # Send email\n",
    "    server = smtplib.SMTP('smtp.example.com', 587)\n",
    "    server.starttls()\n",
    "    server.login(from_email, password)\n",
    "    text = msg.as_string()\n",
    "    server.sendmail(from_email, to_email, text)\n",
    "    server.quit()\n",
    "\n",
    "# Send the report\n",
    "send_email('Daily Report', 'Please find the daily report attached.', 'recipient@example.com', 'report.pdf')\n"
   ]
  }
 ],
 "metadata": {
  "kernelspec": {
   "display_name": "Python 3 (ipykernel)",
   "language": "python",
   "name": "python3"
  },
  "language_info": {
   "codemirror_mode": {
    "name": "ipython",
    "version": 3
   },
   "file_extension": ".py",
   "mimetype": "text/x-python",
   "name": "python",
   "nbconvert_exporter": "python",
   "pygments_lexer": "ipython3",
   "version": "3.9.13"
  }
 },
 "nbformat": 4,
 "nbformat_minor": 5
}
